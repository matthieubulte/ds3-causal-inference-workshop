{
 "cells": [
  {
   "cell_type": "markdown",
   "metadata": {},
   "source": [
    "# Setting up required R packages\n",
    "\n",
    "by Jonas Peters, Niklas Pfister and Rune Christiansen, 19.06.2019\n",
    "\n",
    "This notebook is to make sure that you can use the notebooks we provide. In particular, you need to have the following packages installed. You can execute the following code by pressing Shift + Enter."
   ]
  },
  {
   "cell_type": "code",
   "execution_count": 8,
   "metadata": {},
   "outputs": [
    {
     "name": "stdout",
     "output_type": "stream",
     "text": [
      "[1] \"You're all set!\"\n"
     ]
    }
   ],
   "source": [
    "library(CondIndTests)\n",
    "library(ppcor)\n",
    "library(dHSIC)\n",
    "library(seqICP)\n",
    "library(InvariantCausalPrediction)\n",
    "library(MASS)\n",
    "library(mgcv)\n",
    "library(AER)\n",
    "library(igraph)\n",
    "library(hash)\n",
    "show(\"You're all set!\")"
   ]
  },
  {
   "cell_type": "markdown",
   "metadata": {},
   "source": [
    "If the above code produced an error this means you are missing a package. You can install these directly from within this notebook. Just uncomment the required line in the following code."
   ]
  },
  {
   "cell_type": "code",
   "execution_count": 2,
   "metadata": {},
   "outputs": [
    {
     "name": "stderr",
     "output_type": "stream",
     "text": [
      "also installing the dependencies ‘magrittr’, ‘stringi’, ‘stringr’, ‘iterators’, ‘bibtex’, ‘gbRd’, ‘foreach’, ‘RColorBrewer’, ‘Kendall’, ‘mvtnorm’, ‘Rdpack’, ‘VGAM’, ‘glmnet’, ‘bitops’, ‘randomForest’, ‘quantregForest’, ‘lawstat’, ‘RPtests’, ‘caTools’, ‘kernlab’\n",
      "\n"
     ]
    },
    {
     "name": "stdout",
     "output_type": "stream",
     "text": [
      "\n",
      "The downloaded binary packages are in\n",
      "\t/var/folders/1q/6yvcnyg92lxgm21zktj19zjr0000gn/T//RtmpzNPV34/downloaded_packages\n",
      "\n",
      "The downloaded binary packages are in\n",
      "\t/var/folders/1q/6yvcnyg92lxgm21zktj19zjr0000gn/T//RtmpzNPV34/downloaded_packages\n",
      "\n",
      "The downloaded binary packages are in\n",
      "\t/var/folders/1q/6yvcnyg92lxgm21zktj19zjr0000gn/T//RtmpzNPV34/downloaded_packages\n",
      "\n",
      "The downloaded binary packages are in\n",
      "\t/var/folders/1q/6yvcnyg92lxgm21zktj19zjr0000gn/T//RtmpzNPV34/downloaded_packages\n"
     ]
    },
    {
     "name": "stderr",
     "output_type": "stream",
     "text": [
      "also installing the dependencies ‘libcoin’, ‘Formula’, ‘inum’, ‘stabs’, ‘nnls’, ‘quadprog’, ‘partykit’, ‘mboost’\n",
      "\n"
     ]
    },
    {
     "name": "stdout",
     "output_type": "stream",
     "text": [
      "\n",
      "The downloaded binary packages are in\n",
      "\t/var/folders/1q/6yvcnyg92lxgm21zktj19zjr0000gn/T//RtmpzNPV34/downloaded_packages\n",
      "\n",
      "The downloaded binary packages are in\n",
      "\t/var/folders/1q/6yvcnyg92lxgm21zktj19zjr0000gn/T//RtmpzNPV34/downloaded_packages\n",
      "\n",
      "The downloaded binary packages are in\n",
      "\t/var/folders/1q/6yvcnyg92lxgm21zktj19zjr0000gn/T//RtmpzNPV34/downloaded_packages\n"
     ]
    },
    {
     "name": "stderr",
     "output_type": "stream",
     "text": [
      "also installing the dependencies ‘R6’, ‘clipr’, ‘BH’, ‘rematch’, ‘prettyunits’, ‘forcats’, ‘hms’, ‘readr’, ‘cellranger’, ‘progress’, ‘zip’, ‘pkgconfig’, ‘SparseM’, ‘MatrixModels’, ‘sp’, ‘haven’, ‘curl’, ‘data.table’, ‘readxl’, ‘openxlsx’, ‘tibble’, ‘minqa’, ‘nloptr’, ‘RcppEigen’, ‘carData’, ‘abind’, ‘pbkrtest’, ‘quantreg’, ‘maptools’, ‘rio’, ‘lme4’, ‘car’, ‘lmtest’, ‘sandwich’, ‘zoo’\n",
      "\n"
     ]
    },
    {
     "name": "stdout",
     "output_type": "stream",
     "text": [
      "\n",
      "The downloaded binary packages are in\n",
      "\t/var/folders/1q/6yvcnyg92lxgm21zktj19zjr0000gn/T//RtmpzNPV34/downloaded_packages\n",
      "\n",
      "The downloaded binary packages are in\n",
      "\t/var/folders/1q/6yvcnyg92lxgm21zktj19zjr0000gn/T//RtmpzNPV34/downloaded_packages\n"
     ]
    }
   ],
   "source": [
    "install.packages(\"CondIndTests\")\n",
    "install.packages(\"ppcor\")\n",
    "install.packages(\"dHSIC\")\n",
    "install.packages(\"seqICP\")\n",
    "install.packages(\"InvariantCausalPrediction\")\n",
    "install.packages(\"MASS\")\n",
    "install.packages(\"mgcv\")\n",
    "install.packages(\"AER\")\n",
    "install.packages(\"igraph\")\n",
    "install.packages(\"hash\")"
   ]
  },
  {
   "cell_type": "markdown",
   "metadata": {},
   "source": [
    "Don't worry if you are not able to install the package <tt>igraph</tt>. It is known to cause problems with mac computers and is not essential for our notebooks."
   ]
  }
 ],
 "metadata": {
  "anaconda-cloud": {},
  "kernelspec": {
   "display_name": "R",
   "language": "R",
   "name": "ir"
  },
  "language_info": {
   "codemirror_mode": "r",
   "file_extension": ".r",
   "mimetype": "text/x-r-source",
   "name": "R",
   "pygments_lexer": "r",
   "version": "3.6.0"
  }
 },
 "nbformat": 4,
 "nbformat_minor": 2
}
