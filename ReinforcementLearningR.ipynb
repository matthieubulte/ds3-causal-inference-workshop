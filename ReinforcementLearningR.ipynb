{
 "cells": [
  {
   "cell_type": "markdown",
   "metadata": {},
   "source": [
    "# Reinforcement Learning\n",
    "\n",
    "by Jonas Peters and Rune Christiansen, 21.06.2019\n",
    "\n",
    "This notebook aims to give you a basic understanding of reinforcement learning. It is based on a practical application to the game tictactoe. "
   ]
  },
  {
   "cell_type": "code",
   "execution_count": 12,
   "metadata": {},
   "outputs": [
    {
     "name": "stderr",
     "output_type": "stream",
     "text": [
      "hash-2.2.6 provided by Decision Patterns\n",
      "\n"
     ]
    }
   ],
   "source": [
    "library(hash)"
   ]
  },
  {
   "cell_type": "markdown",
   "metadata": {},
   "source": [
    "Reinforcement learning can be understood by imagining an agent that takes actions according to a given (probabilistic) strategy. The agent is embedded in a world that determines what resembles a permitted move. After taking a set of actions, the agent receives a reward. Based on the profitability of his actions, he then repeatedly updates his strategy, striving towards maximizing this reward. We now make this intuition notion more precise."
   ]
  },
  {
   "cell_type": "markdown",
   "metadata": {},
   "source": [
    "For every $t = 1,2, \\dots, T$, let $S_t$ and $A_t$ denote the ''state of the world'' at time $t$ and the action that is taken at time $t$, respectively. We let $Y$ denote a reward. The variables $Y, S_1, A_1, \\dots, S_T, A_T$ are part of a causal system in which, for all $t$, $\\mathbf{PA}(A_t) = S_t$, i.e., the action at time $t$ is taken only on the basis of the current state of the world. The way in which this action is chosen is called a _strategy_. More formally, a strategy $\\pi$ is a mapping $(a,s) \\mapsto \\pi(a \\, \\vert \\, s) := \\mathbb{P}(A_t = a \\, \\vert \\, S_t = s)$. "
   ]
  },
  {
   "cell_type": "markdown",
   "metadata": {},
   "source": [
    "How should an agent update his strategy? A natural choice is to pick the one that yields the highest expected reward. In practice, the expected rewards under different strategies are unkown and need to be estimated from data. This involves estimating properties of a distribution (the reward distribution under a given strategy) that we do not observe data from (the strategy has not yet been used). Exploiting knowledge of the underlying causal structure, this can be done be inverse probability weighting."
   ]
  },
  {
   "cell_type": "markdown",
   "metadata": {},
   "source": [
    "## Inverse Probability Weighting"
   ]
  },
  {
   "cell_type": "markdown",
   "metadata": {},
   "source": [
    "Let $\\mathbf{X} = (Y, S_1, A_1, \\dots, S_T, A_T)$ denote the full system of variables. Let $\\pi$ and $\\tilde{\\pi}$ be two different strategies, and let $p$ and $\\tilde{p}$ denote the respective densities over $\\mathbf{X}$ that are induced by these strategies. Using Markov factorization of $p$ and $\\tilde{p}$ we see that\n",
    "\\begin{equation}\n",
    "\\xi := \\tilde{\\mathbb{E}} [Y] = \n",
    "\\int y \\, \\tilde{p}(\\mathbf{x}) \\,  d \\mathbf{x} = \n",
    "\\int y \\, \\frac{\\tilde{p}(\\mathbf{x})}{p(\\mathbf{x})} p(\\mathbf{x}) \\,  d \\mathbf{x} = \n",
    "\\int y \\, \\frac{\\prod_{t=1}^T \\tilde{p}(a_t \\, \\vert \\, s_t)}{\\prod_{t=1}^T p(a_t \\, \\vert \\, s_t)} \\, p(\\mathbf{x}) \\, d \\mathbf{x} = \n",
    "\\int y \\, \\frac{\\prod_{t=1}^T \\tilde{\\pi}(a_t \\, \\vert \\, s_t)}{\\prod_{t=1}^T \\pi(a_t \\, \\vert \\, s_t)} \\, p(\\mathbf{x}) \\, d \\mathbf{x} = \n",
    "\\mathbb{E} \\left[ Y \\ \\frac{\\prod_{t=1}^T \\tilde{\\pi}(A_t \\, \\vert \\, S_t)}{\\prod_{t=1}^T \\pi(A_t \\, \\vert \\, S_t)} \\right],\n",
    "\\end{equation}"
   ]
  },
  {
   "cell_type": "markdown",
   "metadata": {},
   "source": [
    "i.e., the expected return $\\xi$ under strategy $\\tilde{\\pi}$ can be optained from the distribution $p$ induced by the original strategy $\\pi$. In practice, this means that we can estimate $\\xi$ given data $\\mathbf{X}^1, \\dots, \\mathbf{X}^n$ obtained under strategy $\\pi$:"
   ]
  },
  {
   "cell_type": "markdown",
   "metadata": {},
   "source": [
    "\\begin{equation} \\tag{1}\n",
    "\\hat \\xi_n := \\frac{1}{n} \\sum_{i=1}^n Y^i \\frac{\\prod_{t=1}^T \\tilde{\\pi}(A_t^i \\, \\vert \\, S_t^i)}{\\prod_{t=1}^T \\pi(A_t^i \\, \\vert \\, S_t^i)}.\n",
    "\\end{equation}"
   ]
  },
  {
   "cell_type": "markdown",
   "metadata": {},
   "source": [
    "## TicTacToe"
   ]
  },
  {
   "cell_type": "markdown",
   "metadata": {},
   "source": [
    "Imagine you are playing a game of TicTacToe against another player. At every stage of the game, the current \"state of the world\" can be described by a 9-dimensional vector $s \\in \\mathcal{S} := \\{-1,0,1\\}^9$ indicating which fields are marked by an \"o\" (-1), which are marked by an \"x\" (1) and which are left blank (0). (In practice, many of the elements in $\\mathcal{S}$ do not correspond to possible game states, but this is irrelevant for the application.) An action corresponds to choosing one of the free fields, i.e., the possible actions are $\\mathcal{A} := \\{1, \\dots, 9\\}$. The reward $Y \\in \\{-1,0,1\\}$ (defeat/draw/win) is obtained after a game is finished."
   ]
  },
  {
   "cell_type": "markdown",
   "metadata": {},
   "source": [
    "Below, we give an implementation of the game. "
   ]
  },
  {
   "cell_type": "code",
   "execution_count": 4,
   "metadata": {},
   "outputs": [],
   "source": [
    "## The Game\n",
    "\n",
    "game <- function(player1, player2, silent = FALSE){\n",
    "  gameState <- rep(0,9)\n",
    "  \n",
    "  while(evaluateGameState(gameState)==42){\n",
    "    movePlus1 <- do.call(player1, list(gameState))$move\n",
    "    gameState[movePlus1] <- 1\n",
    "    if(evaluateGameState(gameState)==42){\n",
    "      moveMinus1 <- do.call(player2, list(-gameState))$move\n",
    "      gameState[moveMinus1] <- -1\n",
    "    }\n",
    "  }\n",
    "  evGS <- evaluateGameState(gameState)\n",
    "  if(evGS==0){\n",
    "    do.call(paste(player1, \".draw\", sep = \"\"), list())\n",
    "    do.call(paste(player2, \".draw\", sep = \"\"), list())\n",
    "    totalResults[totalGames] <<- 0 \n",
    "    res <- 0 \n",
    "    if(!silent){\n",
    "      cat(\"Draw!\")\n",
    "      cat(\"\\n\\n\")\n",
    "      cat(\"Result:\")\n",
    "      cat(\"\\n\\n\")\n",
    "      print(matrix(gameState,3,3,byrow=T))\n",
    "    }\n",
    "  }\n",
    "  if(evGS==1){\n",
    "    res <- 1 \n",
    "    do.call(paste(player1, \".win\", sep = \"\"), list())\n",
    "    do.call(paste(player2, \".loss\", sep = \"\"), list())\n",
    "    totalResults[totalGames] <<- 1 \n",
    "    if(!silent){\n",
    "      print(\"The winner is player 1\")\n",
    "      cat(\"\\n\\n\")\n",
    "      cat(\"Result:\")\n",
    "      cat(\"\\n\\n\")\n",
    "      print(matrix(gameState,3,3,byrow=T))\n",
    "    }\n",
    "  }\n",
    "  if(evGS==-1){\n",
    "    res <- -1 \n",
    "    totalResults[totalGames] <<- -1 \n",
    "    do.call(paste(player1, \".loss\", sep = \"\"), list())\n",
    "    do.call(paste(player2, \".win\", sep = \"\"), list())\n",
    "    if(!silent){\n",
    "      print(\"The winner is player -1\")\n",
    "      cat(\"\\n\\n\")\n",
    "      cat(\"Result:\")\n",
    "      cat(\"\\n\\n\")\n",
    "      print(matrix(gameState,3,3,byrow=T))\n",
    "    }\n",
    "  }\n",
    "  return(res)\n",
    "}\n",
    "\n",
    "## gamestate\n",
    "\n",
    "evaluateGameState <- function(gameState, permut = (1:9)){\n",
    "  gameState <- gameState[permut]\n",
    "  gameStateMat <- matrix(gameState, 3, 3, byrow = T)\n",
    "  rSums <- rowSums(gameStateMat)\n",
    "  cSums <- colSums(gameStateMat)\n",
    "  dSums <- c(sum(gameState[c(1,5,9)]), sum(gameState[c(3,5,7)]))\n",
    "  sums  <- c(rSums, cSums, dSums)\n",
    "  if(any(sums==3)) return(1)\n",
    "  else if(any(sums==-3)) return(-1)\n",
    "  else if(any(gameState==0)) return(42)\n",
    "  else return(0)\n",
    "}\n",
    "\n",
    "\n",
    "\n",
    "## players\n",
    "    \n",
    "######################## playerRandom ########################\n",
    "# chooses randomly among empty fields\n",
    "playerRandom <- function(gameState){\n",
    "  move <- sample((1:9)[which(gameState==0)],1) \n",
    "  return(list(move = move)) \n",
    "}\n",
    "    \n",
    "playerRandom.draw <- function(){\n",
    "  historyRandom$n <<- historyRandom$n + 1 \n",
    "  historyRandom$results[historyRandom$n] <<- 0 \n",
    "}\n",
    "playerRandom.win <- function(){\n",
    "  historyRandom$n <<- historyRandom$n + 1 \n",
    "  historyRandom$results[historyRandom$n] <<- 1 \n",
    "}\n",
    "playerRandom.loss <- function(){\n",
    "  historyRandom$n <<- historyRandom$n + 1 \n",
    "  historyRandom$results[historyRandom$n] <<- -1 \n",
    "}\n",
    "\n",
    "\n",
    "######################## playerLeft ########################\n",
    "# chooses the leftmost empty field\n",
    "playerLeft <- function(gameState){ \n",
    "  move <- which.min(abs(gameState)) \n",
    "  return(list(move = move)) \n",
    "}\n",
    "\n",
    "playerLeft.draw <- function(){\n",
    "  historyLeft$n <<- historyLeft$n + 1 \n",
    "  historyLeft$results[historyLeft$n] <<- 0 \n",
    "}\n",
    "playerLeft.win <- function(){\n",
    "  historyLeft$n <<- historyLeft$n + 1 \n",
    "  historyLeft$results[historyLeft$n] <<- 1 \n",
    "}\n",
    "playerLeft.loss <- function(){\n",
    "  historyLeft$n <<- historyLeft$n + 1 \n",
    "  historyLeft$results[historyLeft$n] <<- -1 \n",
    "}\n"
   ]
  },
  {
   "cell_type": "markdown",
   "metadata": {},
   "source": [
    "### Exercise 1\n",
    "Get familiar with the code. Play a couple of games between playerLeft and playerRandom. Which strategy seems to work best?"
   ]
  },
  {
   "cell_type": "markdown",
   "metadata": {},
   "source": [
    "### Solution 1"
   ]
  },
  {
   "cell_type": "code",
   "execution_count": 5,
   "metadata": {},
   "outputs": [],
   "source": [
    "historyRandom <- list(n = 0, results = NA, games = list())\n",
    "historyLeft <- list(n = 0, results = NA, games = list())\n",
    "totalGames <- 0\n",
    "totalResults <- c()\n",
    "\n",
    "#########################\n",
    "## Play PlayerLeft against PlayerRandom\n",
    "## fill in \n",
    "#########################"
   ]
  },
  {
   "cell_type": "markdown",
   "metadata": {},
   "source": [
    "### End of Solution 1"
   ]
  },
  {
   "cell_type": "markdown",
   "metadata": {},
   "source": [
    "## Estimating expected rewards"
   ]
  },
  {
   "cell_type": "markdown",
   "metadata": {},
   "source": [
    "A strategy for playing TicTacToe is a map \n",
    "$$\n",
    "\\pi : \\mathcal{A} \\times \\mathcal{S} \\to [0,1], \\qquad \\text{ such that for all } s \\in \\mathcal{S}, \\sum_{a \\in \\mathcal{A}}\\pi(a \\, \\vert \\, s) = 1.\n",
    "$$"
   ]
  },
  {
   "cell_type": "markdown",
   "metadata": {},
   "source": [
    "We can parametrize the space of strategies by $\\theta \\in \\mathbb{R}^{\\vert\\mathcal{A}\\vert \\times \\vert \\mathcal{S} \\vert}$ using\n",
    "\\begin{equation} \\tag{2}\n",
    "\\pi_{\\theta}(a \\, \\vert \\, s) = \\mathbb{P}_\\theta(A_t = a \\, \\vert \\, S_t = s) = \\frac{\\exp(\\theta_{as})}{\\sum_{\\theta_{a^\\prime \\in \\mathcal{A}}} \\exp{(\\theta_{a^\\prime s})}}.\n",
    "\\end{equation}"
   ]
  },
  {
   "cell_type": "markdown",
   "metadata": {},
   "source": [
    "Assume that we play a numer of games $i=1,\\dots,n$ under a given strategy, and assume that we have saved this strategy, i.e., the probabilities $\\pi_{\\text{data}}(A_j^i \\, \\vert \\, S_j^i)$ are known (and fixed). Using (1), we can estimate the performance under a new strategy $\\theta$ by\n",
    "\\begin{equation} \\tag{3}\n",
    "\\hat \\xi_{n}(\\theta) = \n",
    "\\frac{1}{n} \\sum_{i=1}^n Y_i \\frac{p_\\theta(\\text{game}_{i})}{p_\\text{data}(\\text{game}_{i})} = \n",
    "\\frac{1}{n} \\sum_{i=1}^n Y_i \\,\n",
    " \\frac{\\pi_{\\theta}(A_1^i \\, \\vert \\, S_1^i) \\pi_{\\theta}(A_2^i \\, \\vert \\, S_2^i) \\pi_{\\theta}(A_3^i \\, \\vert \\, S_3^i) \\pi_{\\theta}(A_4^i \\, \\vert \\, S_4^i)}\n",
    "{\\pi_{\\text{data}}(A_1^i \\, \\vert \\, S_1^i) \\pi_{\\text{data}}(A_2^i \\, \\vert \\, S_2^i) \\pi_{\\text{data}}(A_3^i \\, \\vert \\, S_3^i) \\pi_{\\text{data}}(A_4^i \\, \\vert \\, S_4^i)},\n",
    "\\end{equation}"
   ]
  },
  {
   "cell_type": "markdown",
   "metadata": {},
   "source": [
    "### Exercise 2 \n",
    "We now play 10,000 games against <tt>PlayerLeft</tt> using the random strategy.\n",
    "Use the estimator (2) to estimate the \n",
    "performance against <tt>PlayerLeft</tt> if you play the same strategy as <tt>PlayerLeft</tt>.\n",
    "What is the true expected score in that case?"
   ]
  },
  {
   "cell_type": "markdown",
   "metadata": {},
   "source": [
    "We first update <tt>PlayerRandom</tt> to save information about the played moves and the probability with which they were taken. "
   ]
  },
  {
   "cell_type": "markdown",
   "metadata": {},
   "source": [
    "### Solution 2"
   ]
  },
  {
   "cell_type": "code",
   "execution_count": 6,
   "metadata": {},
   "outputs": [],
   "source": [
    "# updated playerRandom\n",
    "playerRandom <- function(gameState){ \n",
    "  probmass <- rep(0,9) \n",
    "  probmass[gameState == 0] <- 1/sum(gameState == 0) \n",
    "  move <- sample(1:9, size=1, prob = probmass) \n",
    "  ngames <- historyRandom$n + 1 \n",
    "  if(sum(gameState==0)>7){  \n",
    "    # There is at most 1 occupied field. It is thus playerRandom's first turn.\n",
    "    # We initialize entry number 'ngames' in historyRandom$games.\n",
    "    # historyRandom$games contains information on the current gamestate, \n",
    "    # the move taken, and the probability with which it was taken.\n",
    "    historyRandom$games[[ngames]] <<- c(gameState, move, probmass[move]) \n",
    "  }else{ \n",
    "    # We update entry number 'ngames' in historyRandom\n",
    "    historyRandom$games[[ngames]] <<- rbind(historyRandom$games[[ngames]], c(gameState, move, probmass[move]))\n",
    "  }\n",
    "  return(list(move = move))\n",
    "}"
   ]
  },
  {
   "cell_type": "code",
   "execution_count": 7,
   "metadata": {},
   "outputs": [
    {
     "data": {
      "text/html": [
       "0.0763"
      ],
      "text/latex": [
       "0.0763"
      ],
      "text/markdown": [
       "0.0763"
      ],
      "text/plain": [
       "[1] 0.0763"
      ]
     },
     "metadata": {},
     "output_type": "display_data"
    },
    {
     "data": {
      "image/png": "[encoded data removed]",
      "text/plain": [
       "plot without title"
      ]
     },
     "metadata": {},
     "output_type": "display_data"
    }
   ],
   "source": [
    "# 10000 games between PlayerRandom and PlayerLeft\n",
    "historyRandom <- list(n = 0, results = NA, games = list())\n",
    "set.seed(1)\n",
    "numGames <- 10000\n",
    "player1 <- \"playerRandom\" \n",
    "player2 <- \"playerLeft\" \n",
    "\n",
    "totalResults <- c()\n",
    "totalGames <- 1\n",
    "\n",
    "for(i in 1:numGames){\n",
    "  game(player1, player2, silent = TRUE)  \n",
    "  totalGames <- totalGames +1\n",
    "}\n",
    "\n",
    "# play 10000 games\n",
    "plot((1:numGames) - cumsum(totalResults), xlim = c(0,numGames), \n",
    "     ylim = c(0,numGames), ylab = \"games not won\", type = \"l\")\n",
    "\n",
    "# average reward\n",
    "mean(historyRandom$results)"
   ]
  },
  {
   "cell_type": "code",
   "execution_count": 8,
   "metadata": {},
   "outputs": [
    {
     "data": {
      "text/html": [
       "0.0763"
      ],
      "text/latex": [
       "0.0763"
      ],
      "text/markdown": [
       "0.0763"
      ],
      "text/plain": [
       "[1] 0.0763"
      ]
     },
     "metadata": {},
     "output_type": "display_data"
    }
   ],
   "source": [
    "#### compute expected reward under strategy of playerLeft \n",
    "\n",
    "weights <- rep(1,historyRandom$n) # initializing weights\n",
    "for(i in 1:historyRandom$n){\n",
    "  currentgame <- historyRandom$games[[i]]\n",
    "  # update weights, i.e., compute the fraction in the i'th term of the sum in (3)\n",
    "  for(j in 1:(dim(currentgame)[1])){ \n",
    "    #########################\n",
    "    ## fill in\n",
    "    ######################### \n",
    "  }\n",
    "}\n",
    "\n",
    "# estimate for expected reward under the strategy of playerLeft\n",
    "mean(weights*historyRandom$results)"
   ]
  },
  {
   "cell_type": "markdown",
   "metadata": {},
   "source": [
    "### End of Solution 2"
   ]
  },
  {
   "cell_type": "markdown",
   "metadata": {},
   "source": [
    "### Updating the strategy using gradient descent"
   ]
  },
  {
   "cell_type": "markdown",
   "metadata": {},
   "source": [
    "In order to sequentially move towards a higher reward, we can, at every step, update our strategy by moving in a ascent direction of (3). We first need to calculate an expression for the gradient of (3). "
   ]
  },
  {
   "cell_type": "markdown",
   "metadata": {},
   "source": [
    "#### Computing the gradient"
   ]
  },
  {
   "cell_type": "markdown",
   "metadata": {},
   "source": [
    "Given $a$ and $s$.\n",
    "Let us separate the games $\\{1, \\ldots, n\\}$ into three distinct subsets $\\mathcal{S}$, $\\mathcal{T}$, and $\\mathcal{U}$, s.t. \n",
    "$\\{1, \\ldots, n\\} = \n",
    "\\mathcal{S} \\cup \\mathcal{T} \\cup \\mathcal{U}$. \n",
    "$\\mathcal{S}$ contains all $i$, s.t. there is a $j \\in \\{1, 2, 3, 4\\}$ with \n",
    "$S_j^i = s$ and $A_j^i = a$.\n",
    "$\\mathcal{T}$ contains all $i$, s.t. there is a $j \\in \\{1, 2, 3, 4\\}$ with \n",
    "$S_j^i = s$ but $A_j^i \\neq a$.\n",
    "$\\mathcal{U}$ is the rest.\n",
    "We have\n",
    "$$\n",
    "\\frac{\\partial}{\\partial \\theta_{as}}\n",
    "\\frac{\\exp(\\theta_{as})}{\\sum_{a'} \\exp(\\theta_{a's})}\n",
    "= \n",
    "\\left(1 - \\frac{\\exp(\\theta_{as})}{\\sum_{a'} \\exp(\\theta_{a's})}\\right)\n",
    "\\frac{\\exp(\\theta_{as})}{\\sum_{a'} \\exp(\\theta_{a's})}.\n",
    "$$\n",
    "and\n",
    "$$\n",
    "\\frac{\\partial}{\\partial \\theta_{as}}\n",
    "\\frac{\\exp(\\theta_{\\tilde{a}s})}{\\sum_{a'} \\exp(\\theta_{a's})}\n",
    "= \n",
    "- \n",
    "\\frac{\\exp(\\theta_{as})}{\\sum_{a'} \\exp(\\theta_{a's})}\n",
    "\\frac{\\exp(\\theta_{\\tilde{a}s})}{\\sum_{a'} \\exp(\\theta_{a's})}.\n",
    "$$\n",
    "Thus,\n",
    "\\begin{align*}\n",
    "\\frac{\\partial}{\\partial \\theta_{as}}\\hat E (\\theta)\n",
    "&= \n",
    "\\frac{1}{n}\\left(\n",
    "\\sum_{i \\in \\mathcal{S}} \n",
    "Y_i\n",
    "\\left(1 - \\frac{\\exp(\\theta_{as})}{\\sum_{a'} \\exp(\\theta_{a's})}\\right)\n",
    "\\frac{\\pi_{\\theta}(A_1^i \\, \\vert \\, S_1^i) \\pi_{\\theta}(A_2^i \\, \\vert \\, S_2^i) \\pi_{\\theta}(A_3^i \\, \\vert \\, S_3^i) \\pi_{\\theta}(A_4^i \\, \\vert \\, S_4^i)}\n",
    "{\\pi_{\\text{data}}(A_1^i \\, \\vert \\, S_1^i) \\pi_{\\text{data}}(A_2^i \\, \\vert \\, S_2^i) \\pi_{\\text{data}}(A_3^i \\, \\vert \\, S_3^i) \\pi_{\\text{data}}(A_4^i \\, \\vert \\, S_4^i)}\\right.\\\\\n",
    "&\\qquad \n",
    "\\left.+\n",
    "\\sum_{i \\in \\mathcal{T}} \n",
    "Y_i\n",
    "\\left(- \\frac{\\exp(\\theta_{as})}{\\sum_{a'} \\exp(\\theta_{a's})}\\right)\n",
    "\\frac{\\pi_{\\theta}(A_1^i \\, \\vert \\, S_1^i) \\pi_{\\theta}(A_2^i \\, \\vert \\, S_2^i) \\pi_{\\theta}(A_3^i \\, \\vert \\, S_3^i) \\pi_{\\theta}(A_4^i \\, \\vert \\, S_4^i)}\n",
    "{\\pi_{\\text{data}}(A_1^i \\, \\vert \\, S_1^i) \\pi_{\\text{data}}(A_2^i \\, \\vert \\, S_2^i) \\pi_{\\text{data}}(A_3^i \\, \\vert \\, S_3^i) \\pi_{\\text{data}}(A_4^i \\, \\vert \\, S_4^i)}\n",
    "\\right).\n",
    "\\\\\n",
    "\\end{align*}"
   ]
  },
  {
   "cell_type": "markdown",
   "metadata": {},
   "source": [
    "#### Performing the gradient step"
   ]
  },
  {
   "cell_type": "markdown",
   "metadata": {},
   "source": [
    "Let $\\lambda>0$. Given a current strategy $\\theta^{current}$, we perform a gradient step by updating, for all $a,s$,\n",
    "$$\n",
    "\\theta_{as} \\leftarrow \\theta_{as} + \\lambda \\frac{\\partial}{\\partial \\theta_{as}}\\hat E (\\theta) |_{\\theta = \\theta^{current}}\n",
    "$$"
   ]
  },
  {
   "cell_type": "markdown",
   "metadata": {},
   "source": [
    "### Exercise 3"
   ]
  },
  {
   "cell_type": "markdown",
   "metadata": {},
   "source": [
    "Fill in the relevant lines of code in the below implementation of the gradient step. We first define the new player, <tt>PlayerLearn</tt>."
   ]
  },
  {
   "cell_type": "code",
   "execution_count": 9,
   "metadata": {},
   "outputs": [],
   "source": [
    "######################## playerLearn ########################\n",
    "## updates strategy based on experience\n",
    "playerLearn <- function(gameState){ \n",
    "  if(is.null(strategyLearn[[toString(gameState)]])){ \n",
    "    # if gamestate has not been seen yet,\n",
    "    # initialize strategy by uniform\n",
    "    probmass <- rep(0,9) \n",
    "    probmass[gameState == 0] <- 1/sum(gameState == 0) \n",
    "    strategyLearn[[toString(gameState)]] <<- log(probmass) \n",
    "  } else { \n",
    "    # otherwise use current paramters in strategyLearn\n",
    "    # and compute strategy from Equation (2)\n",
    "    probmass <- exp(strategyLearn[[toString(gameState)]])/sum(exp(strategyLearn[[toString(gameState)]])) \n",
    "  }\n",
    "  move <- sample(1:9, size=1, prob = probmass) \n",
    "  ngames <- historyLearn$n + 1 \n",
    "  if(sum(gameState==0)>7){  \n",
    "    historyLearn$games[[ngames]] <<- c(gameState, move, probmass[move]) \n",
    "  }else{ \n",
    "    historyLearn$games[[ngames]] <<- rbind(historyLearn$games[[ngames]], c(gameState, move, probmass[move]))\n",
    "  }\n",
    "  return(list(move = move))\n",
    "}\n",
    "\n",
    "playerLearn.draw <- function(){\n",
    "  historyLearn$n <<- historyLearn$n + 1\n",
    "  historyLearn$results[historyLearn$n] <<- 0\n",
    "  playerLearn.update()\n",
    "}\n",
    "playerLearn.win <- function(){\n",
    "  historyLearn$n <<- historyLearn$n + 1\n",
    "  historyLearn$results[historyLearn$n] <<- 1\n",
    "  playerLearn.update()\n",
    "}\n",
    "playerLearn.loss <- function(){\n",
    "  historyLearn$n <<- historyLearn$n + 1\n",
    "  historyLearn$results[historyLearn$n] <<- -1\n",
    "  playerLearn.update()\n",
    "}"
   ]
  },
  {
   "cell_type": "code",
   "execution_count": 10,
   "metadata": {},
   "outputs": [],
   "source": [
    "playerLearn.update <- function(){\n",
    "  stepsize <- lambda/historyLearn$n # decrease stepsize with time\n",
    "  \n",
    "  # compute gradient\n",
    "  if((totalGames >  waitUntilStep) && ((totalGames %% doStepEvery) == doStepEvery-1)){ # update strategy\n",
    "    gradientLearn <- copy(strategyLearn)\n",
    "    .set(gradientLearn, keys(gradientLearn), rep(list(rep(0,9)),length(keys(gradientLearn))))\n",
    "    for(i in 1:historyLearn$n){\n",
    "      gamee <- historyLearn$games[[i]]\n",
    "      gamee\n",
    "      wup <- 1\n",
    "      wdown <- 1\n",
    "      \n",
    "      for(j in 1:dim(gamee)[1]){\n",
    "        gs <- gamee[j,1:9]\n",
    "        \n",
    "        # wup looks at current probabilities. \n",
    "        ac = gamee[j,10]\n",
    "        wup <- wup * exp(strategyLearn[[toString(gs)]][ac])/sum(exp(strategyLearn[[toString(gs)]]))\n",
    "        # wdown looks at probabilities, under which the action was decided. \n",
    "        wdown <- wdown * gamee[j,11]\n",
    "      }\n",
    "      if(wup > 0){ #if games have zero prob. they are disregarded.\n",
    "        for(j in 1:dim(gamee)[1]){\n",
    "          # get hashed game state\n",
    "          gs <- gamee[j,1:9]\n",
    "          ac <- gamee[j,10]\n",
    "          gradientLearn[[toString(gs)]][ac] = gradientLearn[[toString(gs)]][ac] + \n",
    "            historyLearn$results[i] * wup/wdown * (1 - exp(strategyLearn[[toString(gs)]][ac])/sum(exp(strategyLearn[[toString(gs)]])))\n",
    "          others <- setdiff(which(strategyLearn[[toString(gs)]] > -Inf), ac)\n",
    "          gradientLearn[[toString(gs)]][others] = gradientLearn[[toString(gs)]][others] - \n",
    "            historyLearn$results[i] * wup/wdown * exp(strategyLearn[[toString(gs)]][others])/sum(exp(strategyLearn[[toString(gs)]]))\n",
    "        }\n",
    "      }\n",
    "    }\n",
    "      \n",
    "    # gradient step \n",
    "    for(i in keys(strategyLearn)){\n",
    "      # compute update of i'th entry in strategyLearn\n",
    "      # store result in object 'newVector'\n",
    "      \n",
    "      ######################################\n",
    "      ## change the following assignment\n",
    "      newVector <- rep(1,9)\n",
    "      ######################################\n",
    "        \n",
    "      newVector <- newVector - mean(newVector[newVector > -Inf])\n",
    "      if(max(newVector) > 20){\n",
    "        newVector <- newVector * 20 / max(newVector)\n",
    "      }\n",
    "      .set(strategyLearn, i, newVector)\n",
    "    }\n",
    "  }\n",
    "  \n",
    "  # clear history to keep only the last \"keepMin\" games\n",
    "  if((totalGames > keepMin) && ((totalGames %% clearEvery) == (clearEvery - 1))){ #clear history\n",
    "    historyLearn$games <<- historyLearn$games[(historyLearn$n - keepMin + 1):historyLearn$n]\n",
    "    historyLearn$results <<- historyLearn$results[(historyLearn$n - keepMin + 1):historyLearn$n]\n",
    "    historyLearn$n <<- keepMin\n",
    "  }\n",
    "}"
   ]
  },
  {
   "cell_type": "markdown",
   "metadata": {},
   "source": [
    "### Exercise 4"
   ]
  },
  {
   "cell_type": "markdown",
   "metadata": {},
   "source": [
    "Learn how to play against <tt>PlayerRandom</tt>. Start to play with the random strategy and update your strategy using gradient descent. In total, play $10,000$ games. Choose the step size <tt>lambda</tt> and the interval of how often to do one step of gradient ascent, i.e., the variable <tt>doStepEvery</tt>, such that from the last $1,000$ games you win at least $90\\%$. \n",
    "\n",
    "Write down one of the most likely games under the final (learned) strategy? (Hint: you can access the strategy for a given gamestate <tt>gst</tt> by the command <tt>strategyLearn[[toString(gst)]]</tt>.)"
   ]
  },
  {
   "cell_type": "code",
   "execution_count": 13,
   "metadata": {},
   "outputs": [
    {
     "data": {
      "text/html": [
       "0.437125748502994"
      ],
      "text/latex": [
       "0.437125748502994"
      ],
      "text/markdown": [
       "0.437125748502994"
      ],
      "text/plain": [
       "[1] 0.4371257"
      ]
     },
     "metadata": {},
     "output_type": "display_data"
    },
    {
     "data": {
      "image/png": "[encoded data removed]",
      "text/plain": [
       "plot without title"
      ]
     },
     "metadata": {},
     "output_type": "display_data"
    }
   ],
   "source": [
    "strategyLearn <- hash()\n",
    "historyLearn <- list(n = 0, results = NA, games = list())\n",
    "\n",
    "waitUntilStep <- 500\n",
    "clearEvery <- 500\n",
    "keepMin <- 500\n",
    "numGames <- 10000\n",
    "player1 <- \"playerLearn\" \n",
    "player2 <- \"playerRandom\" \n",
    "totalResults <- c()\n",
    "totalGames <- 1\n",
    "\n",
    "########################################\n",
    "# adjust values for lambda and doStepEvery\n",
    "lambda <- 20\n",
    "doStepEvery <- 1000\n",
    "########################################\n",
    "\n",
    "set.seed(20190623)\n",
    "for(i in 1:numGames){\n",
    "  game(player1, player2, silent = TRUE)  \n",
    "  totalGames <- totalGames +1\n",
    "}\n",
    "\n",
    "# plot over performance\n",
    "plot((1:numGames) - cumsum(totalResults), xlim = c(0,numGames), \n",
    "     ylim = c(0,numGames), ylab = \"games not won\", type = \"l\")\n",
    "\n",
    "# percentage of last 1000 games that have been won\n",
    "mean(tail(historyLearn$results,1000)==1)"
   ]
  },
  {
   "cell_type": "code",
   "execution_count": 141,
   "metadata": {},
   "outputs": [
    {
     "data": {
      "text/html": [
       "<ol class=list-inline>\n",
       "\t<li>-0.482216570484333</li>\n",
       "\t<li>-3.30988366717526</li>\n",
       "\t<li>1.97197546370782</li>\n",
       "\t<li>0.455066756239415</li>\n",
       "\t<li>9.06035819764114</li>\n",
       "\t<li>-6.27495388266287</li>\n",
       "\t<li>0.672412678577698</li>\n",
       "\t<li>-3.69683031983769</li>\n",
       "\t<li>1.60407134399408</li>\n",
       "</ol>\n"
      ],
      "text/latex": [
       "\\begin{enumerate*}\n",
       "\\item -0.482216570484333\n",
       "\\item -3.30988366717526\n",
       "\\item 1.97197546370782\n",
       "\\item 0.455066756239415\n",
       "\\item 9.06035819764114\n",
       "\\item -6.27495388266287\n",
       "\\item 0.672412678577698\n",
       "\\item -3.69683031983769\n",
       "\\item 1.60407134399408\n",
       "\\end{enumerate*}\n"
      ],
      "text/markdown": [
       "1. -0.482216570484333\n",
       "2. -3.30988366717526\n",
       "3. 1.97197546370782\n",
       "4. 0.455066756239415\n",
       "5. 9.06035819764114\n",
       "6. -6.27495388266287\n",
       "7. 0.672412678577698\n",
       "8. -3.69683031983769\n",
       "9. 1.60407134399408\n",
       "\n",
       "\n"
      ],
      "text/plain": [
       "[1] -0.4822166 -3.3098837  1.9719755  0.4550668  9.0603582 -6.2749539  0.6724127\n",
       "[8] -3.6968303  1.6040713"
      ]
     },
     "metadata": {},
     "output_type": "display_data"
    },
    {
     "data": {
      "text/html": [
       "<ol class=list-inline>\n",
       "\t<li>-Inf</li>\n",
       "\t<li>-0.167421554075131</li>\n",
       "\t<li>-1.89051728316382</li>\n",
       "\t<li>6.54649830047452</li>\n",
       "\t<li>-Inf</li>\n",
       "\t<li>-0.178092622550847</li>\n",
       "\t<li>-0.794758091979958</li>\n",
       "\t<li>-2.40689759372544</li>\n",
       "\t<li>-1.10881115497933</li>\n",
       "</ol>\n"
      ],
      "text/latex": [
       "\\begin{enumerate*}\n",
       "\\item -Inf\n",
       "\\item -0.167421554075131\n",
       "\\item -1.89051728316382\n",
       "\\item 6.54649830047452\n",
       "\\item -Inf\n",
       "\\item -0.178092622550847\n",
       "\\item -0.794758091979958\n",
       "\\item -2.40689759372544\n",
       "\\item -1.10881115497933\n",
       "\\end{enumerate*}\n"
      ],
      "text/markdown": [
       "1. -Inf\n",
       "2. -0.167421554075131\n",
       "3. -1.89051728316382\n",
       "4. 6.54649830047452\n",
       "5. -Inf\n",
       "6. -0.178092622550847\n",
       "7. -0.794758091979958\n",
       "8. -2.40689759372544\n",
       "9. -1.10881115497933\n",
       "\n",
       "\n"
      ],
      "text/plain": [
       "[1]       -Inf -0.1674216 -1.8905173  6.5464983       -Inf -0.1780926 -0.7947581\n",
       "[8] -2.4068976 -1.1088112"
      ]
     },
     "metadata": {},
     "output_type": "display_data"
    },
    {
     "data": {
      "text/html": [
       "<ol class=list-inline>\n",
       "\t<li>-Inf</li>\n",
       "\t<li>-1.3344270065945</li>\n",
       "\t<li>-1.50917884537608</li>\n",
       "\t<li>-Inf</li>\n",
       "\t<li>-Inf</li>\n",
       "\t<li>4.72975484906199</li>\n",
       "\t<li>-1.38550341368495</li>\n",
       "\t<li>-Inf</li>\n",
       "\t<li>-0.50064558340647</li>\n",
       "</ol>\n"
      ],
      "text/latex": [
       "\\begin{enumerate*}\n",
       "\\item -Inf\n",
       "\\item -1.3344270065945\n",
       "\\item -1.50917884537608\n",
       "\\item -Inf\n",
       "\\item -Inf\n",
       "\\item 4.72975484906199\n",
       "\\item -1.38550341368495\n",
       "\\item -Inf\n",
       "\\item -0.50064558340647\n",
       "\\end{enumerate*}\n"
      ],
      "text/markdown": [
       "1. -Inf\n",
       "2. -1.3344270065945\n",
       "3. -1.50917884537608\n",
       "4. -Inf\n",
       "5. -Inf\n",
       "6. 4.72975484906199\n",
       "7. -1.38550341368495\n",
       "8. -Inf\n",
       "9. -0.50064558340647\n",
       "\n",
       "\n"
      ],
      "text/plain": [
       "[1]       -Inf -1.3344270 -1.5091788       -Inf       -Inf  4.7297548 -1.3855034\n",
       "[8]       -Inf -0.5006456"
      ]
     },
     "metadata": {},
     "output_type": "display_data"
    },
    {
     "data": {
      "text/plain": [
       "NULL"
      ]
     },
     "metadata": {},
     "output_type": "display_data"
    }
   ],
   "source": [
    "strategyLearn[[toString(c(0,0,0,0,0,0,0,0,0))]] # largest entry 5\n",
    "strategyLearn[[toString(c(-1,0,0,0,1,0,0,0,0))]] # largest entry 4\n",
    "strategyLearn[[toString(c(-1,0,0,1,1,0,0,-1,0))]] # largest entry 6 -> WIN"
   ]
  },
  {
   "cell_type": "code",
   "execution_count": null,
   "metadata": {},
   "outputs": [],
   "source": []
  }
 ],
 "metadata": {
  "kernelspec": {
   "display_name": "R",
   "language": "R",
   "name": "ir"
  },
  "language_info": {
   "codemirror_mode": "r",
   "file_extension": ".r",
   "mimetype": "text/x-r-source",
   "name": "R",
   "pygments_lexer": "r",
   "version": "3.4.1"
  }
 },
 "nbformat": 4,
 "nbformat_minor": 2
}
